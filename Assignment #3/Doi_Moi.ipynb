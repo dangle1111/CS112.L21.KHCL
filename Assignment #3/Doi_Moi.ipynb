{
  "nbformat": 4,
  "nbformat_minor": 0,
  "metadata": {
    "colab": {
      "name": "Doi_Moi.ipynb",
      "provenance": [],
      "authorship_tag": "ABX9TyM2/r4fiY+eavyOwJwBmNGR",
      "include_colab_link": true
    },
    "kernelspec": {
      "name": "python3",
      "display_name": "Python 3"
    },
    "language_info": {
      "name": "python"
    }
  },
  "cells": [
    {
      "cell_type": "markdown",
      "metadata": {
        "id": "view-in-github",
        "colab_type": "text"
      },
      "source": [
        "<a href=\"https://colab.research.google.com/github/dangle1111/CS112.L21.KHCL/blob/twel/Assignment%20%233/Doi_Moi.ipynb\" target=\"_parent\"><img src=\"https://colab.research.google.com/assets/colab-badge.svg\" alt=\"Open In Colab\"/></a>"
      ]
    },
    {
      "cell_type": "markdown",
      "metadata": {
        "id": "maBVXyVOoQH5"
      },
      "source": [
        "# **Đề bài:** \n",
        "\n",
        "Thành phố quyết định chặt hạ hết n cây xanh hiện có trong thành phố để trồng chỉ một loại cây mới. Nhiệm vụ được giao cho Công ty Cây xanh thành phố. Do hạn chế về thiết bị Công ty chỉ tổ chức được 2 đội đốn hạ cây. Đội I hạ được a cây mỗi ngày, nhưng cứ mối ngày thứ k thì phải nghỉ để bảo dưỡng kỹ thuật, tức là đội I sẽ nghỉ vào các ngày  k,2k,3k,...  Đội II hạ được b cây mỗi ngày, nhưng cứ mỗi ngày thứ m thì phải nghỉ để bảo dưỡng kỹ thuật, tức là đội II sẽ nghỉ vào các ngày  m,2m,3m,...  Ở ngày nghỉ, số cây chặt hạ của đội sẽ là 0. Cả hai đội bắt đầu công việc vào cùng một ngày và làm việc song song với nhau.\n",
        "\n",
        "Công việc trồng cây mới sẽ bắt đầu sau khi toàn bộ cây cũ đã bị đốn hạ.\n",
        "\n",
        "Hãy xác định sau bao nhiêu ngày thì có thể bắt đầu việc trồng mới cây.\n",
        "\n",
        "***Dữ liệu:*** Vào từ thiết bị nhập chuẩn gồm một dòng chứa 5 số nguyên  a,k,b,m  và  n   (1≤ a, b ≤ 109, 2 ≤ k, m ≤ 10^18, 1≤ n≤ 10^18) .\n",
        "\n",
        "***Kết quả:*** Đưa ra thiết bị xuất chuẩn một số nguyên – số ngày tính được."
      ]
    },
    {
      "cell_type": "markdown",
      "metadata": {
        "id": "pRQzgDbxoQKe"
      },
      "source": [
        "# **Abstraction:**\n",
        "\n",
        "Tìm t thỏa mãn hàm số: t∗(a+b)−a∗(t//k)−b∗(t//m)>=n"
      ]
    },
    {
      "cell_type": "markdown",
      "metadata": {
        "id": "0rfSJxLQoQMy"
      },
      "source": [
        "# **Pattern Recognition:**\n",
        "\n",
        "Thực hiện tìm kiếm nhị phân (chặt nhị phân)"
      ]
    },
    {
      "cell_type": "markdown",
      "metadata": {
        "id": "q6_VTYLXoQX6"
      },
      "source": [
        "# **Algorithm Design:** \n",
        "\n",
        "Nhận thấy t có thể nằm giữa l và r \n",
        "\n",
        "$$ l = \\frac{n}{a+b}  , r = \\frac{m*n}{b*(m-1)}  $$ với $k$ luôn bé hơn $m$ \n",
        "\n",
        "Tìm $t$ ở giữa 2 phần tử $l,r$ bằng cách tìm nhị phân"
      ]
    },
    {
      "cell_type": "code",
      "metadata": {
        "id": "-VKgX59goB65"
      },
      "source": [
        "from math import ceil\n",
        "\n",
        "a,k,b,m,n=list(map(int,input().split()))\n",
        "\n",
        "l = ceil( n / (a+b))\n",
        "r = ceil( m*n/(b*(m-1)) )\n",
        "\n",
        "while l <= r:\n",
        "    t = (l + r) // 2\n",
        "    if t * (a+b) - a * (t//k) - b * (t//m) >= n:\n",
        "        res = t\n",
        "        r = t - 1\n",
        "    else:\n",
        "        l = t + 1\n",
        "\n",
        "print(res)"
      ],
      "execution_count": null,
      "outputs": []
    }
  ]
}