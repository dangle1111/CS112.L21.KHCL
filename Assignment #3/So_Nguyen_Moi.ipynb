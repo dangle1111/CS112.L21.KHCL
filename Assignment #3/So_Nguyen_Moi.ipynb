{
  "nbformat": 4,
  "nbformat_minor": 0,
  "metadata": {
    "colab": {
      "name": "So_Nguyen_Moi.ipynb",
      "provenance": [],
      "authorship_tag": "ABX9TyPZSk7scRZ+Y54Lt+BhkMCU",
      "include_colab_link": true
    },
    "kernelspec": {
      "name": "python3",
      "display_name": "Python 3"
    },
    "language_info": {
      "name": "python"
    }
  },
  "cells": [
    {
      "cell_type": "markdown",
      "metadata": {
        "id": "view-in-github",
        "colab_type": "text"
      },
      "source": [
        "<a href=\"https://colab.research.google.com/github/dangle1111/CS112.L21.KHCL/blob/twel/So_Nguyen_Moi.ipynb\" target=\"_parent\"><img src=\"https://colab.research.google.com/assets/colab-badge.svg\" alt=\"Open In Colab\"/></a>"
      ]
    },
    {
      "cell_type": "markdown",
      "metadata": {
        "id": "rHYMoFYBl1HM"
      },
      "source": [
        "# **Đề bài**\n",
        "\n",
        "Cho số nguyên dương n có không quá 100 chữ số. Hãy xác định số nguyên lớn nhất m chia hết cho 3 và khác n ở đúng một chữ số.\n",
        "\n",
        "Ví dụ, n = 123 thì m sẽ là 723.\n",
        "\n",
        "***Dữ liệu***: Vào từ thiết bị nhập chuẩn gồm một dòng chứa số nguyên n có không quá 100 chữ số và không chứa các số 0 không có nghĩa.\n",
        "\n",
        "***Kết quả***: Đưa ra thiết bị xuất chuẩn số nguyên m tìm được."
      ]
    },
    {
      "cell_type": "markdown",
      "metadata": {
        "id": "jjSux-7Nl1Sm"
      },
      "source": [
        "# **Abstraction:**\n",
        "\n",
        "Tìm số nguyên m chia hết cho 3 và khác số n cho trước 1 chữ số duy nhất (n không quá 100 chữ số và không chứa các số 0 vô nghĩa)"
      ]
    },
    {
      "cell_type": "markdown",
      "metadata": {
        "id": "313Bs24yl1ZM"
      },
      "source": [
        "# **Pattern Recognition:**\n",
        "\n",
        "Xử lí chuỗi"
      ]
    },
    {
      "cell_type": "markdown",
      "metadata": {
        "id": "F31cA7N_l1fE"
      },
      "source": [
        "# **Algorithm Design:**\n",
        "\n",
        "Duyệt chuỗi tù trái sang phải đến khi thay đổi 1 chữ số:\n",
        "\n",
        "*   Nếu có thể thay đổi, ta dừng vòng lặp và xuất ra kết quả.\n",
        "*   Nếu đến chữ số cuối cùng mà chưa thay đổi, ta trừ chữ số cuối cùng đi r"
      ]
    },
    {
      "cell_type": "markdown",
      "metadata": {
        "id": "MwXSkBpsl15c"
      },
      "source": [
        "# **Độ phức tạp : O(n)**"
      ]
    },
    {
      "cell_type": "code",
      "metadata": {
        "colab": {
          "base_uri": "https://localhost:8080/"
        },
        "id": "0vwrFpiY2-aq",
        "outputId": "e0477a1c-5e56-414e-d5e9-83d67cbf5296"
      },
      "source": [
        "str_input = input()\n",
        "str_res = ''\n",
        "sum = 0\n",
        "\n",
        "for i in str_input:\n",
        "  sum += int(i)\n",
        "\n",
        "odd = 3 - (sum % 3)\n",
        "dcm = 1\n",
        "\n",
        "for i in str_input:\n",
        "  tmp = int(i)\n",
        "  if odd > 0:\n",
        "    if tmp + odd <= 9:\n",
        "      tmp += odd\n",
        "      dcm = 0\n",
        "      odd = 0\n",
        "      while tmp + 3 <= 9: tmp += 3\n",
        "  str_res += str(tmp)    \n",
        "\n",
        "if dcm == 1:\n",
        "  str_res = ''\n",
        "  odd = 3 - odd\n",
        "  if odd == 0: odd = 3\n",
        "  for i in range(len(str_input) -1, -1, -1):\n",
        "    tmp = int(str_input[i])\n",
        "    if odd > 0:\n",
        "      if tmp - odd >= 0:\n",
        "        tmp -= odd\n",
        "        odd = 0\n",
        "    str_res = str(tmp) + str_res\n",
        "\n",
        "print(str_res)  \n"
      ],
      "execution_count": null,
      "outputs": [
        {
          "output_type": "stream",
          "text": [
            "999\n",
            "996\n"
          ],
          "name": "stdout"
        }
      ]
    }
  ]
}
