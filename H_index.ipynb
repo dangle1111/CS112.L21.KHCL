{
  "nbformat": 4,
  "nbformat_minor": 0,
  "metadata": {
    "colab": {
      "name": "H_index.ipynb",
      "provenance": [],
      "authorship_tag": "ABX9TyN4tdIGknKi1eLBNV6K4AH4",
      "include_colab_link": true
    },
    "kernelspec": {
      "name": "python3",
      "display_name": "Python 3"
    },
    "language_info": {
      "name": "python"
    }
  },
  "cells": [
    {
      "cell_type": "markdown",
      "metadata": {
        "id": "view-in-github",
        "colab_type": "text"
      },
      "source": [
        "<a href=\"https://colab.research.google.com/github/dangle1111/CS112.L21.KHCL/blob/twel/H_index.ipynb\" target=\"_parent\"><img src=\"https://colab.research.google.com/assets/colab-badge.svg\" alt=\"Open In Colab\"/></a>"
      ]
    },
    {
      "cell_type": "markdown",
      "metadata": {
        "id": "6WkSdO2f75kX"
      },
      "source": [
        "# **Tên bài: H-index**"
      ]
    },
    {
      "cell_type": "markdown",
      "metadata": {
        "id": "V3yhi8ux75m5"
      },
      "source": [
        "## **Đề bài:**\n",
        "\n",
        "Làm thế nào để đánh giá sự thành công của một nhà khoa học? Dựa vào số bài báo được công bố hay dựa vào số lần một bài báo được trích dẫn tới ở công trình của những người khác? Cả hai tham số đó đều quan trọng.\n",
        "\n",
        "Một bài báo có điểm số trích dẫn là c nếu nó được trích dẫn tới c lần trong các công trình của những nhà khoa học khác. Một trong số các cách đánh giá sự thành công của một nhà khoa học là tính chỉ số ảnh hưởng H_Index dựa trên sự kết hợp giữa số lượng bài báo và chỉ số trích dẫn của các bài báo đó.\n",
        "\n",
        "Chỉ số H_Index của một nhà khoa học bằng k lớn nhất nếu người đó có k bài báo, mỗi bài có điểm số trích dẫn không nhỏ hơn k. Ví dụ, một người có 10 bài báo, mỗi bài báo được trích dẫn không dưới 10 lần thì H_Index của người đó ít nhất là bằng 10.\n",
        "\n",
        "Một người có n bài báo, bài báo thứ i có điểm trích dẫn là $c_{i}$, i = 1 ÷ n. Hãy xác định H_Index của người đó.\n",
        "\n",
        "**Dữ liệu**: Vào từ thiết bị nhập chuẩn:\n",
        "\n",
        "Dòng đầu tiên chứa một số nguyên n (1 ≤ n ≤ 5×$10^5$), Dòng thứ 2 chứa n số nguyên $c_{1}, c_{2}, . . ., c_{n}$ (0 ≤ $c_{i}$ ≤ $10^6$, i = 1 ÷ n). Kết quả: Đưa ra thiết bị xuất chuẩn một số nguyên – H_Index tìm được."
      ]
    },
    {
      "cell_type": "markdown",
      "metadata": {
        "id": "cAQJok4o75o1"
      },
      "source": [
        "# **Abstraction**\n",
        "\n",
        "Tìm số k lớn nhất trong mảng thỏa điều kiện : có k phần tử trong mảng có giá trị lớn hơn hoặc bằng k"
      ]
    },
    {
      "cell_type": "markdown",
      "metadata": {
        "id": "mj_6e1Xb75rB"
      },
      "source": [
        "## **Pattern Recognition**\n",
        "\n",
        "Xử lí mảng"
      ]
    },
    {
      "cell_type": "markdown",
      "metadata": {
        "id": "gy3OPSte75ti"
      },
      "source": [
        "# **Algorithm Design**\n",
        "\n",
        "*   Sort mảng đầu vào theo thứ tự tăng\n",
        "*   Duyệt mảng từ phải sang trái, nếu a[i] >= count thì h_index = count\n",
        "\n"
      ]
    },
    {
      "cell_type": "markdown",
      "metadata": {
        "id": "JwxXRCXA91xE"
      },
      "source": [
        "# **Độ phức tạp : O(n)**"
      ]
    },
    {
      "cell_type": "code",
      "metadata": {
        "colab": {
          "base_uri": "https://localhost:8080/"
        },
        "id": "UKcEJYJr-FyF",
        "outputId": "35ced024-b0ca-46e5-e3fa-2a1ad52519ef"
      },
      "source": [
        "def H_index(a):\n",
        "  count = 0\n",
        "  h_index = 0\n",
        "  a.sort()\n",
        "  for i in range(len(a) - 1, -1, -1):\n",
        "    count = len(a) - i\n",
        "    if (a[i] >= count):\n",
        "      h_index = count\n",
        "  return h_index\n",
        "\n",
        "n = int(input())\n",
        "A = list(map(int, input().strip().split()))[:n]\n",
        "\n",
        "H_index(A)"
      ],
      "execution_count": 26,
      "outputs": [
        {
          "output_type": "stream",
          "text": [
            "5\n",
            "8 5 3 4 10\n"
          ],
          "name": "stdout"
        },
        {
          "output_type": "execute_result",
          "data": {
            "text/plain": [
              "4"
            ]
          },
          "metadata": {
            "tags": []
          },
          "execution_count": 26
        }
      ]
    }
  ]
}