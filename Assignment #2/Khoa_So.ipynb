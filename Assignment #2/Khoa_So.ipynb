{
  "nbformat": 4,
  "nbformat_minor": 0,
  "metadata": {
    "colab": {
      "name": "Khoa_So.ipynb",
      "provenance": [],
      "authorship_tag": "ABX9TyO1vdQv9UCc+UMyN5Gbq6BV",
      "include_colab_link": true
    },
    "kernelspec": {
      "name": "python3",
      "display_name": "Python 3"
    },
    "language_info": {
      "name": "python"
    }
  },
  "cells": [
    {
      "cell_type": "markdown",
      "metadata": {
        "id": "view-in-github",
        "colab_type": "text"
      },
      "source": [
        "<a href=\"https://colab.research.google.com/github/dangle1111/CS112.L21.KHCL/blob/twel/Khoa_So.ipynb\" target=\"_parent\"><img src=\"https://colab.research.google.com/assets/colab-badge.svg\" alt=\"Open In Colab\"/></a>"
      ]
    },
    {
      "cell_type": "markdown",
      "metadata": {
        "id": "HHFLuuQGk7_z"
      },
      "source": [
        "# **Đề bài**\n",
        "\n",
        "Để tăng độ an toàn chống hiện tượng cướp ngân hàng ngày càng phổ biến người ta dùng khóa số với mã mở khóa đơn giản nhưng rất hiệu quả. Trên cửa ra vào hiển thị một xâu khá dài các ký tự số. Các chữ số có thể di chuyển đổi chỗ cho nhau hoặc bị xóa. Muốn mở khóa người ta phải di chuyển các chữ số và trong trường hợp cần thiết – xóa vài chữ số để nhận được xâu lớn nhất thỏa mãn điều kiện đã cài đặt. Điều kiện này được thay đổi thường xuyên. Hôm nay điều kiện đó là “Số nhận được phải chia hết cho $3$”. Số nhận được có thể bắt đầu bằng các chữ số $0$. Xâu “$000$” sẽ lớn hơn xâu “$00$”.\n",
        "\n",
        "Hãy xác định khóa mở cửa.\n",
        "\n",
        "Dữ liệu: Vào từ thiết bị nhập chuẩn gồm một xâu ký tự số có độ dài lớn hơn $2$ và không vượt quá $10^5$.\n",
        "\n",
        "Kết quả: Đưa ra thiết bị xuất chuẩn xâu khóa mở cửa."
      ]
    },
    {
      "cell_type": "markdown",
      "metadata": {
        "id": "THDkaeiMlAQd"
      },
      "source": [
        "# **Abstraction**\n",
        "\n",
        "Cho xâu ký tự số, tìm xâu chia hết cho 3 lớn nhất có thể tìm được."
      ]
    },
    {
      "cell_type": "markdown",
      "metadata": {
        "id": "Q-xTd3NCk8FV"
      },
      "source": [
        "# **Pattern Recognition**\n",
        "\n",
        "Ta tạo 1 dictionary lưu số lượng phần tử với key là giá trị của mỗi loại ký tự ('0', '1', '2', '3', '4', '5', '6', '7', '8', '9') và value: là số lượng của ký tự đó."
      ]
    },
    {
      "cell_type": "code",
      "metadata": {
        "id": "u8npryHklaJO"
      },
      "source": [
        "n = input().strip()\n",
        "key = [x for x in n]\n",
        "key.sort(reverse=True)\n",
        "\n",
        "sum = 0 \n",
        "count = [0] * 10, mod1 = [1,4,7], mod2 = [2,5,8]\n",
        "\n",
        "for i in key:\n",
        "    j = int(i)\n",
        "    sum += j\n",
        "    count[j] += 1\n",
        "  \n",
        "if (sum % 3 == 1):\n",
        "    for mod in mod1:\n",
        "       if count[mod] > 0: \n",
        "          count[mod] -=1\n",
        "          break\n",
        "    else:\n",
        "      \n",
        "       counter = 2 \n",
        "       for mod in mod2:\n",
        "         if count[mod] >= 2:\n",
        "            count[mod] -=2\n",
        "            counter -= 2 \n",
        "         if count[mod] >=1 :\n",
        "            count[mod] -=1\n",
        "            counter -= 1\n",
        "         if counter == 0:\n",
        "            break\n",
        "\n",
        "if (sum % 3 == 2):\n",
        "    for mod in mod2:\n",
        "       if count[mod] > 0: \n",
        "          count[mod] -=1\n",
        "          break\n",
        "    else:\n",
        "      counter = 2 \n",
        "       for mod in mod1:\n",
        "         if count[mod] >= 2:\n",
        "            count[mod] -=2\n",
        "            counter -= 2 \n",
        "         if count[mod] >=1 :\n",
        "            count[mod] -=1\n",
        "            counter -= 1\n",
        "         if counter == 0:\n",
        "            break\n",
        "\n",
        "key = ''\n",
        "for i in range(10):\n",
        "    key += str(i) * count[i]\n",
        "print(key[::-1])"
      ],
      "execution_count": null,
      "outputs": []
    }
  ]
}
