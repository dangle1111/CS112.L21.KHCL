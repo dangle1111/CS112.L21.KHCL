{
  "nbformat": 4,
  "nbformat_minor": 0,
  "metadata": {
    "colab": {
      "name": "btvn.ipynb",
      "provenance": [],
      "authorship_tag": "ABX9TyNiC+qvLBucY1Y5u5QqyVe5",
      "include_colab_link": true
    },
    "kernelspec": {
      "name": "python3",
      "display_name": "Python 3"
    },
    "language_info": {
      "name": "python"
    }
  },
  "cells": [
    {
      "cell_type": "markdown",
      "metadata": {
        "id": "view-in-github",
        "colab_type": "text"
      },
      "source": [
        "<a href=\"https://colab.research.google.com/github/dangle1111/CS112.L21.KHCL/blob/twel/btvn.ipynb\" target=\"_parent\"><img src=\"https://colab.research.google.com/assets/colab-badge.svg\" alt=\"Open In Colab\"/></a>"
      ]
    },
    {
      "cell_type": "markdown",
      "metadata": {
        "id": "fvk-GQc-KotB"
      },
      "source": [
        "Ví dụ 1:"
      ]
    },
    {
      "cell_type": "code",
      "metadata": {
        "colab": {
          "base_uri": "https://localhost:8080/"
        },
        "id": "GTSAxEcsKogN",
        "outputId": "da48fd4c-5c7e-45b4-ad3e-d3a18a5f4df1"
      },
      "source": [
        "A = list(map(int, input().strip().split()))\n",
        "B = []\n",
        "C = []\n",
        "\n",
        "res = 0\n",
        "\n",
        "for i in range(len(A)):\n",
        "  if A[i] < 0: B.append(A[i])\n",
        "  if A[i] > 0: C.append(A[i])\n",
        "  B.sort()\n",
        "  C.sort()\n",
        "\n",
        "x = len(B)\n",
        "y = len(C)\n",
        "\n",
        "if x >= 2:\n",
        "  if len(B) % 2 == 0:\n",
        "    res = max(B[x-1]*B[x-2]*C[y-1], C[y-1]*C[y-2]*C[y-3])\n",
        "else:\n",
        "  res = C[y-1]*C[y-2]*C[y-3]\n",
        "print(res)"
      ],
      "execution_count": 22,
      "outputs": [
        {
          "output_type": "stream",
          "text": [
            "-6 8 -1 1\n",
            "64\n"
          ],
          "name": "stdout"
        }
      ]
    },
    {
      "cell_type": "markdown",
      "metadata": {
        "id": "3Du6BEM9Kktw"
      },
      "source": [
        "Ví dụ 2:"
      ]
    },
    {
      "cell_type": "code",
      "metadata": {
        "colab": {
          "base_uri": "https://localhost:8080/"
        },
        "id": "ntAD2YGMr8iH",
        "outputId": "0fb29133-0e13-4e8a-f79f-09ba73d758cd"
      },
      "source": [
        "L = int(input())\n",
        "R = int(input())\n",
        "\n",
        "def Find(Left, Right):\n",
        "  count = 0\n",
        "  for i in range(Left, Right, 1):\n",
        "    sum = 0\n",
        "    for j in range(1, i, 1):\n",
        "      if (i % j == 0): sum += j\n",
        "    if (sum > i): count +=1\n",
        "  return count\n",
        "  \n",
        "Find(L,R)\n"
      ],
      "execution_count": 7,
      "outputs": [
        {
          "output_type": "stream",
          "text": [
            "11\n",
            "13\n"
          ],
          "name": "stdout"
        },
        {
          "output_type": "execute_result",
          "data": {
            "text/plain": [
              "1"
            ]
          },
          "metadata": {
            "tags": []
          },
          "execution_count": 7
        }
      ]
    }
  ]
}