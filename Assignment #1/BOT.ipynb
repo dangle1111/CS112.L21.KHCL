{
  "nbformat": 4,
  "nbformat_minor": 0,
  "metadata": {
    "colab": {
      "name": "BOT.ipynb",
      "provenance": [],
      "collapsed_sections": [],
      "authorship_tag": "ABX9TyNF2/KT/R9NkiBfTGaVAvKs",
      "include_colab_link": true
    },
    "kernelspec": {
      "name": "python3",
      "display_name": "Python 3"
    },
    "language_info": {
      "name": "python"
    }
  },
  "cells": [
    {
      "cell_type": "markdown",
      "metadata": {
        "id": "view-in-github",
        "colab_type": "text"
      },
      "source": [
        "<a href=\"https://colab.research.google.com/github/dangle1111/CS112.L21.KHCL/blob/main/BOT.ipynb\" target=\"_parent\"><img src=\"https://colab.research.google.com/assets/colab-badge.svg\" alt=\"Open In Colab\"/></a>"
      ]
    },
    {
      "cell_type": "markdown",
      "metadata": {
        "id": "hhjiorMLl_q0"
      },
      "source": [
        "## **Tên bài toán : TẠM THU PHÍ (BOT - Built-Operation-Transfer)**"
      ]
    },
    {
      "cell_type": "markdown",
      "metadata": {
        "id": "57R0xu3EmArh"
      },
      "source": [
        "## **Đề bài:** \n",
        "\n",
        "**BOT** (Built-Operation-Transfer, có nghĩa: Xây dựng-Vận hành-Chuyển giao) là hình thức Chính phủ kêu gọi các công ty bỏ vốn xây dựng trước (Built) thông qua đấu thầu, sau đó khai thác vận hành một thời gian (Operation) và sau cùng là chuyển giao (Transfer) lại cho nhà nước sở tại.\n",
        "\n",
        "Đường cao tốc xuyên quốc gia được xây dựng theo hình thức BOT. Công ty Đa quốc gia Modern Highway trúng thầu, chia toàn bộ con đường thành n đoạn. Theo tính toán của Công ty sau khi chuyển giao con đường cho chính phủ sở tại quản lý thì lãi thu được ở đoạn đường thứ i là ai, ai có thể dương, âm hoặc bằng 0, tức là với từng đoạn con có thể lãi, lỗ hoặc hòa vốn. Từng nhóm các đoạn đường liên tiếp nhau (gọi tắt là khoảng) được chia cho các công ty con thực hiện. Công ty con ASEAM Highway hiện đang có trụ sở ở nước sở tại được quyền chọn trước khoảng tùy ý (có thể là cả con đường).\n",
        "\n",
        "Dĩ nhiên Ban Giám đốc ASEAM Highway muốn chọn khoảng bắt đầu từ đoạn p đến hết đoạn q mang lại lợi nhuận cao nhất hoặc lỗ ít nhất nếu không có khoảng nào cho lãi.\n",
        "\n",
        "Hãy chỉ ra khoảng cần chọn và lãi thu được. Nếu có nhiều cách chọn thì chỉ ra cách chọn có p nhỏ nhất.\n",
        "\n",
        "**Dữ liệu**: Vào từ thiết bị nhập chuẩn:\n",
        "\n",
        "\n",
        "*   Dòng đầu tiên chứa số nguyên n (1 ≤ n ≤ 106),\n",
        "*   Dòng thứ 2 chứa n số nguyên a1, a2, . . ., an (0 ≤ |ai| ≤ 109, i = 1 ÷ n).\n",
        "\n",
        "**Kết quả:** Đưa ra thiết bị xuất chuẩn trên một dòng 2 số nguyên p, q và lãi thu được."
      ]
    },
    {
      "cell_type": "markdown",
      "metadata": {
        "id": "Es6zB9n3mA4o"
      },
      "source": [
        "## **Abstraction**\n",
        "\n",
        "Cho mảng A gồm n phần tử (1 ≤ n ≤ 106), tìm p,q (p < q) sao cho tổng các phần tử từ A[p] đến A[q] lớn nhât."
      ]
    },
    {
      "cell_type": "markdown",
      "metadata": {
        "id": "yk9VsAmwl_0k"
      },
      "source": [
        "## **Pattern Recognition**\n",
        "\n",
        "*   Kỹ thuật : Xử lí mảng\n",
        "*   Đặc điểm nhận dạng: Đề yêu cầu ta phải tìm mảng con liên tục có tổng các phần tử lớn nhất từ mảng đã cho.\n",
        "\n"
      ]
    },
    {
      "cell_type": "markdown",
      "metadata": {
        "id": "V2qDV-cIl_65"
      },
      "source": [
        "## **Algorithm designed**\n",
        "\n",
        "Ý tưởng : Duyệt lần lượt\n",
        "\n",
        "Đặt 3 biến để lưu:\n",
        "\n",
        "*   Vị trí bắt đầu mảng con sau cùng: last_begin (tức p)\n",
        "*   Vị trí kết thúc mảng con sau cùng: last_end (tức q)\n",
        "*   Tổng lớn nhất sau cùng : last_sum (Tức last_sum = max sum A[p] -> A[q]\n",
        "\n",
        "Đặt thêm 3 biến để sử dụng cho mỗi vòng lặp:\n",
        "\n",
        "\n",
        "*   Vị trí bắt đầu mảng con tại vòng lặp: cur_begin\n",
        "*   Vị trí kết thúc mảng con tại vòng lặp: cur_end\n",
        "*   Tổng mảng con từ A[current_begin] đến A[current_end]: cur_sum \n",
        "\n",
        "\n",
        "Tại vòng lặp thứ k (tức tại vị trí cur_end đang chạy):\n",
        "\n",
        "*   Nếu A[cur_end] > cur_sum thì: cur_start = cur_end, nếu không thì cur_sum += A[cur_end]\n",
        "*   Nếu cur_sum > last_sum thì : last_begin = cur_begin, last_end = cur_end, last_sum = cur_sum\n"
      ]
    },
    {
      "cell_type": "code",
      "metadata": {
        "id": "9pu_-5GXVUEC"
      },
      "source": [
        "def max_BOT(numbers):\n",
        "    last_sum = float('-inf')\n",
        "    last_start = last_end = None\n",
        "    cur_sum = float('-inf')\n",
        "    for cur_end, x in enumerate(numbers):\n",
        "        if cur_sum < 0:\n",
        "            cur_start = cur_end\n",
        "            cur_sum = x\n",
        "        else:\n",
        "            cur_sum += x\n",
        "            \n",
        "        if cur_sum > last_sum:\n",
        "            last_sum = cur_sum\n",
        "            last_start = cur_start\n",
        "            last_end = cur_end  \n",
        "    a = int(last_sum)\n",
        "    print(last_start + 1, last_end + 1, a)\n",
        "    return\n",
        "\n",
        "n = int(input())\n",
        "A = list(map(float, input().strip().split()))[:n]\n",
        "max_BOT(A)"
      ],
      "execution_count": 29,
      "outputs": []
    }
  ]
}
