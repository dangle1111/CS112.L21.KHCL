{
  "nbformat": 4,
  "nbformat_minor": 0,
  "metadata": {
    "colab": {
      "name": "Untitled6.ipynb",
      "provenance": [],
      "toc_visible": true,
      "authorship_tag": "ABX9TyNha5xUag9Hp8+lZ6rbVI9f",
      "include_colab_link": true
    },
    "kernelspec": {
      "name": "python3",
      "display_name": "Python 3"
    },
    "language_info": {
      "name": "python"
    }
  },
  "cells": [
    {
      "cell_type": "markdown",
      "metadata": {
        "id": "view-in-github",
        "colab_type": "text"
      },
      "source": [
        "<a href=\"https://colab.research.google.com/github/dangle1111/CS112.L21.KHCL/blob/twel/Assignment%20%234/SuaHangRao.ipynb\" target=\"_parent\"><img src=\"https://colab.research.google.com/assets/colab-badge.svg\" alt=\"Open In Colab\"/></a>"
      ]
    },
    {
      "cell_type": "markdown",
      "metadata": {
        "id": "avmPJetwNSFR"
      },
      "source": [
        "# **Sửa hàng rào**"
      ]
    },
    {
      "cell_type": "markdown",
      "metadata": {
        "id": "ym0q25ZoNSQn"
      },
      "source": [
        "## **Đề bài**\n",
        "\n",
        "Sau khi dựng xong nhà kho chứa cỏ, dì Poly quyết định dùng m tấm gỗ còn thừa gia cố hàng rào của vườn rau ngăn không cho gà vào phá và giao công việc này cho Tôm và Hấc Phin làm. Nhiệm vụ của hai cậu bé tội nghiệp là đóng thêm vào các tấm ván hàng rào để có hàng rào mới càng cao càng tốt. Nhìn vẽ mặt buồn thiu và lóng ngóng của 2 đứa Jim quyết định sẽ làm giúp. Hàng rào được ghép từ n tấm gỗ cùng độ rộng như nhau và bằng độ rộng của các tấm gỗ còn thừa, tấm thứ i có độ cao ai, i = 1 ÷ n. Tôm và Hấc Phin chỉ phải xếp các tấm còn thừa lên xe ba gác để Jim kéo đi. Các tấm gỗ được xếp thành một chồng, tính từ trên xuống tấm thứ j có độ dài bj, j = 1 ÷ m. Jim kéo xe ba gác đi dọc theo hàng rào. Đến một tấm nào đó muốn gia cố Jim sẽ lấy một tấm gỗ từ xe đóng tiếp lên tấm gỗ trên hàng rào và độ cao mới của tấm này trên hàng rào sẽ là tổng độ cao của tấm cũ và tấm mới đóng thêm. Jim chỉ đóng thêm một tấm mới vào tấm cũ vì muốn đảm bảo độ chắc chắn của hàng rào. Jim có thể lấy tấm trên cùng ở xe hoặc vất ra khỏi xe một số tấm cho đến khi gặp tấm vừa ý. Người ta vẫn nói “Khôn đâu tới trẻ, khỏe đâu tới già!” Jim đã đứng tuổi và không còn sức để xếp lại các tấm gỗ bị bỏ ra vào xe. Ngoài ra, Jim cũng khá mê tín nên không quay lại lấy những tấm đã loại.\n",
        "\n",
        "Hãy xác định độ cao lớn nhất có thể đạt được của hàng rào sau khi gia cố. Độ cao của hàng rào được tính bằng độ cao tấm gỗ thấp nhất trên hàng rào.\n",
        "\n",
        "Dữ liệu: Vào từ thiết bị nhập chuẩn:\n",
        "\n",
        "Dòng đầu tiên chứa số nguyên n (1 ≤ n ≤ 105),\n",
        "\n",
        "Dòng thứ 2 chứa n số nguyên a1, a2, . . ., an (1 ≤ ai ≤ 108, i = 1 ÷ n),\n",
        "\n",
        "Dòng thứ 3 chứa số nguyên m (1 ≤ m ≤ 105),\n",
        "\n",
        "Dòng cuối cùng chứ m số nguyên b1, b2, . . ., bm (1 ≤ bj ≤ 108, j = 1÷ m).\n",
        "\n",
        "Kết quả: Đưa ra thiết bị xuất chuẩn, dòng đầu tiên chứa 2 số nguyên h và k – độ cao lớn nhất có thể của hàng rào và số tấm gỗ đã được đóng thêm, mỗi dòng trong k dòng tiếp theo chứa 2 số nguyên x và y, trong đó x – tấm gỗ trên hàng rào được đóng cao hơn, y – tấm gỗ được dùng để đóng. Đưa ra phương án có các số hiệu tấm ván được chọn là nhỏ nhất nếu tồn tại nhiều cách đóng khác nhau."
      ]
    },
    {
      "cell_type": "markdown",
      "metadata": {
        "id": "n45Uf4EwNSZP"
      },
      "source": [
        "## **Abstraction**\n",
        "\n",
        "Cho 2 dãy số A, B; tìm dãy C gồm phần tử lấy từ A và B sao cho chỉ số các phần tử lấy từ A và B tăng dần và đảm bảo phép tính tổng phần tử dãy A với phần tử dãy B tương ứng liệt kê trong dãy C sẽ cho phần tử nhỏ nhất của dãy A sau khi tính là lớn nhất có thể ."
      ]
    },
    {
      "cell_type": "markdown",
      "metadata": {
        "id": "TT05m6mJNSgX"
      },
      "source": [
        "## **Pattern Recognition**\n",
        "\n",
        "Tìm kiếm nhị phân"
      ]
    },
    {
      "cell_type": "markdown",
      "metadata": {
        "id": "kBoAAn-NNSsy"
      },
      "source": [
        "## **Algorithm Design**\n",
        "\n",
        "Để giải bài toán trên ta cần 2 phần\n",
        "\n",
        "Bước 1: Tìm chọn giá trị nhỏ nhất sau cùng khả thi dựa trên phương pháp tìm kiếm nhị phân\n",
        "\n",
        "Đầu tiên, ta chọn cận trái và cận phải của tập giá trị tìm kiếm. Cận trái là giá trị nhỏ nhất của mảng A, cận phải là tổng giá trị nhỏ nhất của dãy A và giá trị lớn nhất của dãy B.\n",
        "\n",
        "Chọn phần tử trung vị của tập tìm kiếm và kiểm tra ở bước 2, nếu kết quả trả về là True (có thể tạo được dãy mới sao cho giá trị nhỏ nhất thỏa mãn phần tử trung vị) thì tiếp tục thử ở đoạn bên phải, nếu kết quả trả về False thì tìm ở đoạn bên trái.\n",
        "\n",
        "Bước 2: Kiểm tra lựa chọn trên\n",
        "\n",
        "Kiểm tra từng phần tử trong A cộng thêm phần tử ở dãy B có lớn hơn phần tử trung vị được chọn không, nếu không thỏa thì chọn phần tử tiếp theo của dãy B. Nếu duyệt hết dãy A thì trả về True, nếu dãy A chưa thỏa hết mà không còn phần tử dãy B thì trả về False."
      ]
    },
    {
      "cell_type": "code",
      "metadata": {
        "id": "oq-8CEc7NNMa"
      },
      "source": [
        "def Try(n, m ,a ,b , h):\n",
        "\tta = [x for x in a if x < h]\n",
        "\tn_ta = len(ta)\n",
        "\ti=0\n",
        "\tif n_ta == 0:\n",
        "\t\treturn True\n",
        "\n",
        "\tfor bj in b:\n",
        "\t\tif ta[i] + bj >= h: \n",
        "\t\t\ti += 1\n",
        "\t\tif i == n_ta:       \n",
        "\t\t\treturn True\n",
        "\treturn False          \n",
        "\n",
        "def PrintResult(n, m ,a ,b , h):\n",
        "\tta = [ x for x in range(n) if a[x] < h]\n",
        "\tn_ta = len(ta)\n",
        "\ti=0\n",
        "\tj=0\t\n",
        "\ttemp_result= ''\n",
        "\tif n_ta == 0:\n",
        "\t\treturn '',0\n",
        "\tfor j in range(m):\n",
        "\t\tif a[ta[i]] + b[j] >= h:\n",
        "\t\t\ttemp_result += str(ta[i]+1) +' '+ str(j+1) + '\\n'\n",
        "\t\t\ti += 1\n",
        "\t\tif i == n_ta:\n",
        "\t\t\treturn temp_result,n_ta\n",
        "\n",
        "\n",
        "def main():\n",
        "\n",
        "\tn = int(input())\n",
        "\ta = [int(i) for i in input().split()]\n",
        "\tm = int(input())\n",
        "\tb = [int(i) for i in input().split()]\n",
        "\n",
        "\tleft = 0\n",
        "\tright = 200000001\n",
        "\th = 0\n",
        "\tk = 0\n",
        "\tkab = 0\n",
        "\n",
        "\twhile(left < right):\n",
        "\t\tmid = (left+right)//2\n",
        "\t\ttry_ = Try(n,m,a,b,mid)\n",
        "\t\tif try_==True:          \n",
        "\t\t\tleft = mid + 1\n",
        "\t\telse:\n",
        "\t\t\tright = mid         \n",
        "\th = left - 1               \n",
        "\tkab, k = PrintResult(n,m,a,b,h)\n",
        "\tprint(h,k)\n",
        "\tprint(kab)\n",
        " \n",
        "main()"
      ],
      "execution_count": null,
      "outputs": []
    }
  ]
}