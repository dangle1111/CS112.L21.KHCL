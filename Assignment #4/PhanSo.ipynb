{
  "nbformat": 4,
  "nbformat_minor": 0,
  "metadata": {
    "colab": {
      "name": "PhanSo.ipynb",
      "provenance": [],
      "authorship_tag": "ABX9TyOO353gljGQ1hAXTYce96Ac",
      "include_colab_link": true
    },
    "kernelspec": {
      "name": "python3",
      "display_name": "Python 3"
    },
    "language_info": {
      "name": "python"
    }
  },
  "cells": [
    {
      "cell_type": "markdown",
      "metadata": {
        "id": "view-in-github",
        "colab_type": "text"
      },
      "source": [
        "<a href=\"https://colab.research.google.com/github/dangle1111/CS112.L21.KHCL/blob/twel/PhanSo.ipynb\" target=\"_parent\"><img src=\"https://colab.research.google.com/assets/colab-badge.svg\" alt=\"Open In Colab\"/></a>"
      ]
    },
    {
      "cell_type": "markdown",
      "metadata": {
        "id": "-j_S8VaT5MCA"
      },
      "source": [
        "# **Phân số**"
      ]
    },
    {
      "cell_type": "markdown",
      "metadata": {
        "id": "F0ybv_km5NKw"
      },
      "source": [
        "## **Đề bài**\n",
        "\n",
        "Cho 2 phân số đúng và tối giản a/b , c/d . Mỗi phép biến đổi là tăng a và b lên 1, sau đó giản ước phân số nhận được.\n",
        "\n",
        "Hãy xác định sau bao nhiêu bước biến đổi từ phân số thứ nhất ban đầu nhận được phân số thứ 2 đã cho.\n",
        "\n",
        "Dữ liệu: Vào từ thiết bị nhập chuẩn gồm 4 dòng, mỗi dòng chứa 1 số nguyên a, b, c, d, 0 < a < b ≤105, 0 < c < d ≤ 105, a và b nguyên tố cùng nhau, c và d nguyên tố cùng nhau  a/b ≠ c/d\n",
        "\n",
        "Kết quả: Đưa ra thiết bị xuất chuẩn số 0 nếu không có cách biến đổi hoặc một số nguyên – số lượng phép biến đổi."
      ]
    },
    {
      "cell_type": "markdown",
      "metadata": {
        "id": "bc7hmZOf5NRu"
      },
      "source": [
        "## **Abstraction**\n",
        "\n",
        "Nhập 4 số a,b,c,d (a/b != c/d) và 1 bước biến đổi là a = a+1, b = b+1. Tìm số lần biến đổi để a/b = c/d, trả về 0 nếu không tìm đuọc"
      ]
    },
    {
      "cell_type": "markdown",
      "metadata": {
        "id": "6Y7Y9WPy5NU1"
      },
      "source": [
        "## **Pattern Recognition**"
      ]
    },
    {
      "cell_type": "markdown",
      "metadata": {
        "id": "8GVhNXrx5NXd"
      },
      "source": [
        "## **Algorithm Design**\n",
        "\n",
        "1. Hàm rút gọn phân số a/b : \n",
        "*   Tìm ước chung lớn nhất c của a,b\n",
        "*   a = a/c\n",
        "*   b = b/c\n",
        "\n",
        "2. Chạy vòng while, điều kiện lặp a != c hoặc b != d. Tạo biến count. Sau mỗi vòng lặp count +=1, nếu count > 5*10^5 vẫn chưa kết thúc vòng lặp thì break và gán count = 0. Xuất count\n"
      ]
    },
    {
      "cell_type": "markdown",
      "metadata": {
        "id": "CdVhgNKP5NZq"
      },
      "source": [
        "## **Độ phức tạp : O(n)**"
      ]
    },
    {
      "cell_type": "code",
      "metadata": {
        "id": "j8N1qMU_malb"
      },
      "source": [
        "import math\n",
        "def rutgon(a,b):\n",
        "  c = math.gcd(a,b)\n",
        "  return int(a/c), int(b/c)\n",
        "\n",
        "a = int(input())\n",
        "b = int(input())\n",
        "c = int(input())\n",
        "d = int(input())\n",
        "\n",
        "count = 0\n",
        "while(a != c or b != d):\n",
        "  a = a + 1\n",
        "  b = b + 1\n",
        "  count += 1\n",
        "  a, b = rutgon(a,b)\n",
        "  if (count > 5 * 10^5):\n",
        "    count = 0\n",
        "    break\n",
        "print(count)"
      ],
      "execution_count": null,
      "outputs": []
    }
  ]
}
