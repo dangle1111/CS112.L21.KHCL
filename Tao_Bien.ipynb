{
  "nbformat": 4,
  "nbformat_minor": 0,
  "metadata": {
    "colab": {
      "name": "Tao_Bien.ipynb",
      "provenance": [],
      "authorship_tag": "ABX9TyOO9YZPAG0eLrn5vrIXMayz",
      "include_colab_link": true
    },
    "kernelspec": {
      "name": "python3",
      "display_name": "Python 3"
    },
    "language_info": {
      "name": "python"
    }
  },
  "cells": [
    {
      "cell_type": "markdown",
      "metadata": {
        "id": "view-in-github",
        "colab_type": "text"
      },
      "source": [
        "<a href=\"https://colab.research.google.com/github/dangle1111/CS112.L21.KHCL/blob/main/Tao_Bien.ipynb\" target=\"_parent\"><img src=\"https://colab.research.google.com/assets/colab-badge.svg\" alt=\"Open In Colab\"/></a>"
      ]
    },
    {
      "cell_type": "markdown",
      "metadata": {
        "id": "-E3IAoYWibe8"
      },
      "source": [
        "### **Tên bài : Tảo biển**\n"
      ]
    },
    {
      "cell_type": "markdown",
      "metadata": {
        "id": "nKdgNzlqlVFf"
      },
      "source": [
        "## **Abstraction:**\n",
        "Nhập n và k, Tính S = n * F(2k + 1), (1 ≤ n ≤ 1000, 1 ≤ k ≤ 10^17)\n",
        "\n",
        "*   F(0) = 0\n",
        "*   F(1) = 1\n",
        "*   F(n) = F(n-2) + F(n-1), với n > 1\n",
        "\n"
      ]
    },
    {
      "cell_type": "markdown",
      "metadata": {
        "id": "Sci-nvRumYvT"
      },
      "source": [
        "## **Pattern Recognition:** \n",
        "Tính dãy Fibonacci\n",
        "## **Cách nhận biết:**\n",
        "Lấy trường hợp 1 cá thể tảo biển trong 3 ngày (n = 1, k = 3), ta có:\n",
        "\n",
        "\n",
        "*   Tại ngày 0, số lượng cá thể : 1\n",
        "*   Tại ngày 1, số lượng cá thể : 2\n",
        "*   Tại ngày 2, số lượng cá thể : 5\n",
        "*   Tại ngày 3, số lượng cá thể : 13\n",
        "\n",
        "Với dãy Fibonacci, ta có: F(1) = 1, F(3) = 2, F(5) = 5 và F(7) = 13\n",
        "\n",
        "Ta thấy : Số lượng cá thể tăng lên mỗi ngày tương ứng với số phần tử lẻ của dãy \n",
        "Fibonacci, từ đó suy ra số lượng 1 cá thể trong k ngày là : F(2k+1)\n",
        "\n",
        "Tổng quát hóa bài toán: Số lượng n cá thể trong k ngày là: n*F(2k+1)\n",
        "\n",
        "\n",
        "\n"
      ]
    },
    {
      "cell_type": "markdown",
      "metadata": {
        "id": "Bti1fOW_mY2V"
      },
      "source": [
        "## **Algorithm designed**\n",
        "\n",
        "Hàm Fibonacci: Quy hoạch động\n",
        "\n",
        "Hàm main:\n",
        "\n",
        "Tính S = n*F(2k+1) với F là hàm Fibonacci\n",
        "1.   Input : n, k  (1 ≤ n ≤ 1000, 1 ≤ k ≤ 10^17)\n",
        "2.   Output : S\n",
        "\n",
        "\n"
      ]
    },
    {
      "cell_type": "markdown",
      "metadata": {
        "id": "9lgPpszUoJZe"
      },
      "source": [
        "# **Độ phức tạp : O(n)**"
      ]
    },
    {
      "cell_type": "code",
      "metadata": {
        "colab": {
          "base_uri": "https://localhost:8080/"
        },
        "id": "-NOMeRygglGt",
        "outputId": "36c5f23b-a5d5-4f97-cbe2-eabed8a35c25"
      },
      "source": [
        "mod = (10**9 + 7)\n",
        "\n",
        "# Fibonacci Series using Dynamic Programming\n",
        "def fibonacci(n):\n",
        "     \n",
        "    # Taking 1st two fibonacci nubers as 0 and 1\n",
        "    f = [0, 1]\n",
        "     \n",
        "     \n",
        "    for i in range(2, n+1):\n",
        "        f.append(f[i-1] + f[i-2])\n",
        "    return f[n]\n",
        "     \n",
        "n ,k = map(int, input().split())\n",
        "print((n * fibonacci(2*k + 1)) % mod)"
      ],
      "execution_count": 6,
      "outputs": [
        {
          "output_type": "stream",
          "text": [
            "1 5\n",
            "89\n"
          ],
          "name": "stdout"
        }
      ]
    }
  ]
}