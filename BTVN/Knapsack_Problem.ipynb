{
  "nbformat": 4,
  "nbformat_minor": 0,
  "metadata": {
    "colab": {
      "name": "Knapsack_Problem.ipynb",
      "provenance": [],
      "collapsed_sections": [],
      "authorship_tag": "ABX9TyOaUBYrrh+9/Hv1Fv/LIWj8",
      "include_colab_link": true
    },
    "kernelspec": {
      "name": "python3",
      "display_name": "Python 3"
    },
    "language_info": {
      "name": "python"
    }
  },
  "cells": [
    {
      "cell_type": "markdown",
      "metadata": {
        "id": "view-in-github",
        "colab_type": "text"
      },
      "source": [
        "<a href=\"https://colab.research.google.com/github/dangle1111/CS112.L21.KHCL/blob/twel/BTVN/Knapsack_Problem.ipynb\" target=\"_parent\"><img src=\"https://colab.research.google.com/assets/colab-badge.svg\" alt=\"Open In Colab\"/></a>"
      ]
    },
    {
      "cell_type": "code",
      "metadata": {
        "id": "osKZ_YMIrykF",
        "colab": {
          "base_uri": "https://localhost:8080/"
        },
        "outputId": "bd36f3a4-7ab9-452d-e958-db52d1aecab9"
      },
      "source": [
        "import numpy as np\n",
        "n = int(input())\n",
        "value = list(map(int, input().strip().split()))[:n]\n",
        "weight = list(map(int, input().strip().split()))[:n]\n",
        "k = int(input())\n",
        "\n",
        "remaining_weight = k\n",
        "bag_value = 0\n",
        "\n",
        "ratio = (np.array(value)/np.array(weight))\n",
        "ratio = sorted(range(n), key = lambda k: ratio[k])\n",
        "\n",
        "for i in range(n-1, -1, -1):\n",
        "  index = ratio[i]\n",
        "  k -= weight[index]\n",
        "  if k < 0: break\n",
        "  bag_value += value[index]\n",
        "\n",
        "print(bag_value)\n"
      ],
      "execution_count": 20,
      "outputs": [
        {
          "output_type": "stream",
          "text": [
            "3\n",
            "2 1 3\n",
            "5 4 10\n",
            "10\n",
            "2\n"
          ],
          "name": "stdout"
        }
      ]
    },
    {
      "cell_type": "markdown",
      "metadata": {
        "id": "QKSTxBPxfQz0"
      },
      "source": [
        "Câu hỏi: Ưu điểm lớn nhất của Kỹ thuật tham lam là gì ? "
      ]
    }
  ]
}