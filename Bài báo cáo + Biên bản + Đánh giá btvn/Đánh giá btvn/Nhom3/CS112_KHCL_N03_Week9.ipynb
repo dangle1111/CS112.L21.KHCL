{
  "nbformat": 4,
  "nbformat_minor": 0,
  "metadata": {
    "colab": {
      "name": "CS112_KHCL_N03_Week9.ipynb",
      "provenance": [],
      "include_colab_link": true
    },
    "kernelspec": {
      "name": "python3",
      "display_name": "Python 3"
    },
    "language_info": {
      "name": "python"
    }
  },
  "cells": [
    {
      "cell_type": "markdown",
      "metadata": {
        "id": "view-in-github",
        "colab_type": "text"
      },
      "source": [
        "<a href=\"https://colab.research.google.com/github/dangle1111/CS112.L21.KHCL/blob/twel/B%C3%A0i%20b%C3%A1o%20c%C3%A1o%20%2B%20Bi%C3%AAn%20b%E1%BA%A3n%20%2B%20%C4%90%C3%A1nh%20gi%C3%A1%20btvn/%C4%90%C3%A1nh%20gi%C3%A1%20btvn/Nhom3/CS112_KHCL_N03_Week9.ipynb\" target=\"_parent\"><img src=\"https://colab.research.google.com/assets/colab-badge.svg\" alt=\"Open In Colab\"/></a>"
      ]
    },
    {
      "cell_type": "markdown",
      "metadata": {
        "id": "wc36eWLE8imY"
      },
      "source": [
        "# Abstraction\n",
        "---\n",
        "Tìm kiếm tuyến tính\n",
        "\n",
        "# Pattern Recognition\n",
        "---\n",
        "Quy hoạch động\n",
        "\n",
        "# Algorithm Design\n",
        "---\n",
        "xây dựng hai mảng L[] và R[], trong đó L[i] là vị trí j nhỏ nhất mà bị cây i làm đổ nếu đẩy về bên trái, tương tự với R.\n",
        "\n",
        "<center> $L[i]=min[i,min(L[j]) với i−h[i] < j < i] $</center>\n",
        "\n",
        "Để tính L[] ta duy trì một stack chứa các chỉ số tăng dần. Trước khi thêm một cây i mới vào, các cây bị nó trực tiếp làm đổ sẽ bị pop ra, đồng thời ta cập nhật L[i].\n",
        "\n",
        "Gọi F(i) là số cây cần phải đổ nhỏ nhất để các cây có chỉ số 1 … i đều đổ.\n",
        "Để tính F(i) cần xét 2 trường hợp:\n",
        "\n",
        "* Nếu ta đẩy cây i qua trái: F(i)=min[F(j−1)+1] với L[i] ≤ j ≤ i (1)\n",
        "*\tNếu cây i bị đẩy qua phải bởi cây j F(i)=min[F(j−1)+1] với 1≤ j ≤ i và R[j] ≥ i (2)\n",
        "\n",
        "\n",
        "> Với F(i)=min[F(j−1)+1] với L[i] ≤ j ≤ i \n",
        "\n",
        "cập nhật 𝐹[𝐿[𝑖]−1]=min⁡[𝐹(𝑗−1)+1] với 𝐿[𝑖]≤𝑗≤𝑖\n",
        ">với F(i)=min[F(j−1)+1] với 1≤ j ≤ i và R[j] ≥ i \n",
        "\n",
        "sử dụng một stack để lưu các vị trí có R[] giảm dần, đồng thời luôn duy trì sao cho giá trị ở top của stack luôn là tốt nhất. Chú ý là với 𝑗<𝑖 và 𝑅[𝑗]≥𝑖 thì 𝑅[𝑗]≥𝑅[𝑖]. Như vậy nếu tại mỗi bước ta pop các vị trí j có 𝑹[𝒋]<𝒊 ra khỏi stack, thì sẽ luôn duy trì được tính chất của stack vì lúc này đảm bảo được R[i] là nhỏ hơn các R[] đang ở trong stack, đồng thời nếu F(i−1) không tốt bằng giá trị ở đầu stack thì ta sẽ không đẩy i vào (để đảm bảo giá trị ở top luôn là tốt nhất).\n",
        "\n",
        "# Complexity\n",
        "---\n",
        "Time Conplexity :O(N)\n",
        "\n"
      ]
    },
    {
      "cell_type": "code",
      "metadata": {
        "id": "LNfgdQawc9M1",
        "colab": {
          "base_uri": "https://localhost:8080/"
        },
        "outputId": "7c98ac28-a1ac-4835-bc00-b3ad61f0f968"
      },
      "source": [
        "\n",
        "def initialize(L,R,n,a):\n",
        "    S=[]\n",
        "    for i in range(n+1):\n",
        "        L[i]=i\n",
        "        while len(S) != 0 and S[-1] > i - a[i]:\n",
        "            L[i]=min(L[i],L[S[-1]],S.pop())\n",
        "        S.append(i)\n",
        "    S=[]\n",
        "    temp = n\n",
        "    while temp >= 1 :\n",
        "        R[temp]=temp\n",
        "        while len(S) != 0 and S[-1] < temp + a[temp]:\n",
        "            R[temp]=max(R[temp],R[S[-1]],S[-1])\n",
        "            S.pop()\n",
        "        S.append(temp)\n",
        "        temp = temp -1\n",
        "\n",
        "def solve(L,R,n,cache,trace) :\n",
        "    for i in range(n+1):\n",
        "        cache[i]=i\n",
        "        trace[i]=-i\n",
        "    S=[]\n",
        "    for i in range(n+1):\n",
        "        if cache[i] > cache[L[i]-1] +1 :\n",
        "            cache[i]=cache[L[i]-1]+1\n",
        "            trace[i]=-(L[i])\n",
        "        while len(S)!=0 and R[S[-1]] < i :\n",
        "            S.pop()\n",
        "        if len(S) != 0 and cache[i] > cache[S[-1] - 1] + 1 :\n",
        "            cache[i] = cache[S[-1] - 1] + 1\n",
        "            trace[i] = S[-1]\n",
        "        if len(S)==0 or (cache[S[-1] - 1] > cache[i - 1]) :\n",
        "            S.append(i)\n",
        "    print(cache[n])\n",
        "    temp = n\n",
        "    s=''\n",
        "    while temp!=0:\n",
        "        if trace[temp] < 0 :\n",
        "            s=s+str(-temp)+' '\n",
        "        else:\n",
        "            s=s+str(trace[temp])+' '\n",
        "        temp=abs(trace[temp])-1\n",
        "    print(s)\n",
        "\n",
        "\n",
        "n = int(input())\n",
        "input_string = input()\n",
        "List=input_string.split()\n",
        "List1=[0]*3950041\n",
        "for i in range(1,len(List)+1):\n",
        "    List1[i] = int(List[i-1])%1000000007\n",
        "L = [0]*3950041\n",
        "R = [0]*3950041\n",
        "cache = [0]*3950041\n",
        "trace = [0]*3950041\n",
        "initialize(L,R,n,List1)\n",
        "solve(L,R,n,cache,trace)\n"
      ],
      "execution_count": null,
      "outputs": [
        {
          "output_type": "stream",
          "text": [
            "5\n",
            "5 1 1 1 1\n",
            "1\n",
            "1 \n"
          ],
          "name": "stdout"
        }
      ]
    }
  ]
}