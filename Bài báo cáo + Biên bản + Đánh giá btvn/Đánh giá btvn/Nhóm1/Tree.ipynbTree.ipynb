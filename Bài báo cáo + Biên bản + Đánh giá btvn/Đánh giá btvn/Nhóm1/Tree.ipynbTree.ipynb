{
  "nbformat": 4,
  "nbformat_minor": 0,
  "metadata": {
    "colab": {
      "name": "Tree.ipynb",
      "provenance": [],
      "collapsed_sections": [],
      "include_colab_link": true
    },
    "kernelspec": {
      "name": "python3",
      "display_name": "Python 3"
    },
    "language_info": {
      "name": "python"
    }
  },
  "cells": [
    {
      "cell_type": "markdown",
      "metadata": {
        "id": "view-in-github",
        "colab_type": "text"
      },
      "source": [
        "<a href=\"https://colab.research.google.com/github/dangle1111/CS112.L21.KHCL/blob/twel/B%C3%A0i%20b%C3%A1o%20c%C3%A1o%20%2B%20Bi%C3%AAn%20b%E1%BA%A3n%20%2B%20%C4%90%C3%A1nh%20gi%C3%A1%20btvn/%C4%90%C3%A1nh%20gi%C3%A1%20btvn/Nh%C3%B3m1/Tree.ipynbTree.ipynb\" target=\"_parent\"><img src=\"https://colab.research.google.com/assets/colab-badge.svg\" alt=\"Open In Colab\"/></a>"
      ]
    },
    {
      "cell_type": "markdown",
      "metadata": {
        "id": "IK34sWKAIoiH"
      },
      "source": [
        "# **Abstraction:**\n",
        "\n",
        "Cho mảng h (chiều cao cây) gồm n cây: h1,h2,....hn(1<n<10^4). Tìm số lượng cây phải cưa nhỏ nhất sao cho đốn ngã được hết tất cả cây (h rỗng).Với điều kiện đốn ngã cây như sau:\n",
        "\n",
        "\n",
        "*   Cưa ngã cây thứ i (ngã trái): tất cả cây j(i-hi<j<i) đều ngã\n",
        "*   Cưa ngã cây thứ i (ngã phải): tất cả cây j (i<j<hi+i) đều ngã\n",
        "*   Mỗi cây chỉ ngã 1 lần\n",
        "\n"
      ]
    },
    {
      "cell_type": "markdown",
      "metadata": {
        "id": "him9_6EOPUyx"
      },
      "source": [
        "# **Pattern Recognition:**\n",
        "Bài toán sử dụng thuật toán quy hoạch động\n",
        "\n",
        "*Đặc điểm nhận dạng:\n",
        "Gọi F(i) là số cây phải cưa nhỏ nhất để đốn ngã hết tất cả các cây từ 1..i\n",
        "\n",
        "+Cấu trúc con tối ưu:Để F(n)(1..n) trước hết ta phải tính các F(i) (1..i<n)(chia thành các bài toán nhỏ hơn)\n",
        "\n",
        "+Các bài toán con gối nhau:Để F(i) (1..i<n) ta phải tính đc F(i-1) (1..i-1) để so sánh\n",
        "\n"
      ]
    },
    {
      "cell_type": "markdown",
      "metadata": {
        "id": "8ticbS_GaBlm"
      },
      "source": [
        "# **Algorithm designed:**\n",
        "\n",
        "\n",
        "*   Chuẩn bị:\n",
        "\n",
        "    - Xây dựng 2 mảng L[],R[] trong đó:\n",
        "\n",
        "        +L[i] là vị trí j nhỏ nhất mà cây i đổ về bên trái làm ngã\n",
        "                L[i]=min[i,min(L[j]) với i-hi<j<i]\n",
        "        +R[i] là vị trí j nhỏ nhất mà cây i đổ về bên phải làm ngã\n",
        "                R[i]=min[i,min(R[j])với i>j>i+hi]\n",
        "*   Quy hoạch động:\n",
        "\n",
        "    - Gọi F(i) là số cây cần phải đổ nhỏ nhất để các cây có chỉ số 1..i đều đổ:\n",
        "        + Để tính F(i) xét 2 trường hợp:\n",
        "\n",
        "            +Nếu cưa đổ cây i về bên trái F(i)=min[F(j−1)+1]  với L[i]≤j≤i (1)\n",
        "\n",
        "            +Nếu cây i bị đẩy qua phải bởi cây j F(i)=min[F(j−1)+1] với 1≤j≤i và R[j]≥i (2)\n"
      ]
    },
    {
      "cell_type": "markdown",
      "metadata": {
        "id": "iS21UD-SdnBt"
      },
      "source": [
        "# **Độ phức tạp:**\n",
        "-Chưa tối ưu hóa : O(n^2)\n",
        "\n",
        "-Dùng cấu trúc dữ liệu quản lý đoạn: O(nlogn)\n",
        "\n",
        "-Sử dụng stack: O(n)"
      ]
    },
    {
      "cell_type": "code",
      "metadata": {
        "id": "pe509psT2b6s",
        "colab": {
          "base_uri": "https://localhost:8080/"
        },
        "outputId": "79db725e-d0a3-413b-deca-f8c7b13a19d5"
      },
      "source": [
        "n=int(input())\n",
        "hh=list(map(int,input().split()))\n",
        "l=[0]*(n+1)\n",
        "r=[0]*(n+1)\n",
        "h=[0]*(n+1)\n",
        "for i in range(1,n+1):\n",
        "  h[i]=hh[i-1]\n",
        "def repair():\n",
        "  s=[]\n",
        "  for i in range(1,n+1):\n",
        "    l[i]=i\n",
        "    while (len(s)!=0) and (s[len(s)-1]>i-h[i]):\n",
        "      l[i]= min(l[i],l[s[len(s)-1]])\n",
        "      s.pop()\n",
        "    s.append(i)\n",
        "  s.clear()\n",
        "  for i in reversed(list(range(1,n+1))):\n",
        "    r[i]=i\n",
        "    while (len(s)!=0) and (s[len(s)-1]<i+h[i]):\n",
        "      r[i]= max(r[i],r[s[len(s)-1]])\n",
        "      s.pop()\n",
        "    s.append(i)\n",
        "def solve():\n",
        "  res=[0]*(n+1)\n",
        "  trace=[0]*(n+1)\n",
        "  for i in range(1,n+1):\n",
        "    res[i]=i\n",
        "    trace[i]=-i\n",
        "  s=[]\n",
        "  for i in range(1,n+1):\n",
        "    if (res[i]>res[l[i]-1]+1):\n",
        "      res[i]=res[l[i]-1]+1\n",
        "      trace[i]=-(l[i])\n",
        "    while (len(s)!=0) and (r[s[len(s)-1]]<i):\n",
        "      s.pop()\n",
        "    if (len(s)!=0) and (res[i]>res[s[len(s)-1]-1]+1):\n",
        "      res[i]=res[s[len(s)-1]-1]+1\n",
        "      trace[i]=s[len(s)-1]\n",
        "    if (len(s)==0) or (res[s[len(s)-1]-1]>res[i-1]):\n",
        "      s.append(i)\n",
        "  print(res[n])\n",
        "  j=n\n",
        "  for i in range(res[n]):\n",
        "    if (trace[j]<0):\n",
        "      print(-j,end=' ')\n",
        "    else:\n",
        "      print(trace[j],end=' ')\n",
        "    j=abs(trace[j])-1\n",
        "repair()\n",
        "solve()\n"
      ],
      "execution_count": null,
      "outputs": [
        {
          "output_type": "stream",
          "text": [
            "5\n",
            "5 1 1 1 1\n",
            "1\n",
            "1 "
          ],
          "name": "stdout"
        }
      ]
    }
  ]
}