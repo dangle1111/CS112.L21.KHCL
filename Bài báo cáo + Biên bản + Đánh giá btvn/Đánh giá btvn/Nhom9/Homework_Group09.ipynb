{
  "nbformat": 4,
  "nbformat_minor": 0,
  "metadata": {
    "colab": {
      "name": "Homework_Group09.ipynb",
      "provenance": [],
      "collapsed_sections": [],
      "include_colab_link": true
    },
    "kernelspec": {
      "name": "python3",
      "display_name": "Python 3"
    },
    "language_info": {
      "name": "python"
    }
  },
  "cells": [
    {
      "cell_type": "markdown",
      "metadata": {
        "id": "view-in-github",
        "colab_type": "text"
      },
      "source": [
        "<a href=\"https://colab.research.google.com/github/dangle1111/CS112.L21.KHCL/blob/twel/B%C3%A0i%20b%C3%A1o%20c%C3%A1o%20%2B%20Bi%C3%AAn%20b%E1%BA%A3n%20%2B%20%C4%90%C3%A1nh%20gi%C3%A1%20btvn/%C4%90%C3%A1nh%20gi%C3%A1%20btvn/Nhom9/Homework_Group09.ipynb\" target=\"_parent\"><img src=\"https://colab.research.google.com/assets/colab-badge.svg\" alt=\"Open In Colab\"/></a>"
      ]
    },
    {
      "cell_type": "markdown",
      "metadata": {
        "id": "_vUaqb3xbzZj"
      },
      "source": [
        "## ***Abstraction:***\n",
        "Tìm kiếm tuyến tính.\n",
        "## ***Pattern Recognition:***\n",
        "Quy hoạch động.\n",
        "## ***Decomposition:***\n",
        "Xét các trường hợp khi cây i đổ, tìm cây ở vị trị nhỏ nhất khi cây i đổ về bên trái và cây ở vị trí lớn nhất khi cây i đổ về bên trái.\n",
        "Sau khi xét tất cả các trường hợp, ta sẽ chọn ra trường hợp với số lần chặt cây ít nhất.\n",
        "## ***Algorithm Design:***\n",
        "***Bước 1: Chuẩn bị***\n",
        "\n",
        "Ta sẽ xây dựng hai mảng L[] và R[], trong đó L[i] là vị trí j nhỏ nhất mà bị cây i làm đổ nếu đẩy về bên trái, tương tự với R.\n",
        "\n",
        ">                            L[i]=min[i,min(L[j]) với i−h[i] < j < i]\n",
        "\n",
        "Để tính L[] ta duy trì một stack chứa các chỉ số tăng dần. Trước khi thêm một cây i mới vào, các cây bị nó trực tiếp làm đổ sẽ bị pop ra, đồng thời ta cập nhật L[i].\n",
        "\n",
        "***Bước 2: Quy hoạch động***\n",
        "\n",
        "Gọi F(i) là số cây cần phải đổ nhỏ nhất để các cây có chỉ số 1 … i đều đổ.\n",
        "Để tính F(i) cần xét 2 trường hợp:\n",
        "- Nếu ta đẩy cây i qua trái: F(i)=min[F(j−1)+1] với L[i] ≤ j ≤ i (1)\n",
        "- Nếu cây i bị đẩy qua phải bởi cây j F(i)=min[F(j−1)+1] với 1≤ j ≤ i và R[j] ≥ i (2)\n",
        "\n",
        "Để xử lí (1), ta cài đặt được ngắn gọn như thế này:\n",
        "𝐹[𝐿[𝑖]−1]=min⁡[𝐹(𝑗−1)+1] với 𝐿[𝑖]≤𝑗≤𝑖\n",
        "\n",
        "Để xử lí (2) ta sẽ sử dụng một stack để lưu các vị trí có R[] giảm dần, đồng thời luôn duy trì sao cho giá trị ở top của stack luôn là tốt nhất. Chú ý là với 𝑗<𝑖 và 𝑅[𝑗]≥𝑖 thì 𝑅[𝑗]≥𝑅[𝑖]. Như vậy nếu tại mỗi bước ta pop các vị trí j có 𝑹[𝒋]<𝒊 ra khỏi stack, thì sẽ luôn duy trì được tính chất của stack vì lúc này đảm bảo được R[i] là nhỏ hơn các R[] đang ở trong stack, đồng thời nếu F(i−1) không tốt bằng giá trị ở đầu stack thì ta sẽ không đẩy i vào (để đảm bảo giá trị ở top luôn là tốt nhất).\n"
      ]
    },
    {
      "cell_type": "markdown",
      "metadata": {
        "id": "UzKaHxWYzdkP"
      },
      "source": [
        "## ***Code:***"
      ]
    },
    {
      "cell_type": "code",
      "metadata": {
        "id": "z6jB1O0elohZ"
      },
      "source": [
        "n=int(input())\n",
        "a=list(map(int,input().split()))\n",
        "a.insert(0,0)\n",
        "L=[-1]*(n+1)\n",
        "R=[-1]*(n+1)\n",
        "dp=[0]\n",
        "trace=[0]\n",
        " \n",
        "def init():\n",
        "    S=[]\n",
        "    for i in range(1,n+1):\n",
        "        L[i]=i\n",
        "        \n",
        "        while (len(S)!=0) and (S[-1] >i-a[i]):\n",
        "            L[i]=min(L[i],L[S[-1]])\n",
        "            S.pop(-1)\n",
        "        S.append(i)\n",
        "    \n",
        "    \n",
        "    S=[]\n",
        "    for i in range(n,0,-1):\n",
        "        R[i]=i\n",
        "        \n",
        "        while (len(S)!=0) and (S[-1] <i+a[i]):\n",
        "            R[i]=max(R[i],R[S[-1]])\n",
        "            S.pop(-1)\n",
        "        S.append(i)\n",
        "        \n",
        "    \n",
        " \n",
        "def solve():\n",
        "    for i in range(1,n+1):\n",
        "        dp.append(i)\n",
        "        trace.append(-i)\n",
        "    S=[]\n",
        "    for i in range(1,n+1):\n",
        "        if dp[i]>dp[L[i]-1]+1:\n",
        "            dp[i]=dp[L[i]-1]+1\n",
        "            trace[i]=-(L[i])\n",
        "        while len(S)!=0 and R[S[-1]]<i:\n",
        "            S.pop(-1)\n",
        "        if len(S)!=0 and dp[i]>dp[S[-1]-1]+1:\n",
        "            dp[i]=dp[S[-1]-1]+1\n",
        "            trace[i]=S[-1]\n",
        "        if len(S)==0 or dp[S[-1]-1]> dp[i-1]:\n",
        "            S.append(i)\n",
        "    print(dp[n])\n",
        "   \n",
        "    j=n\n",
        "    while j:\n",
        "        if trace[j]<0:\n",
        "            print(-(j),end=\" \")\n",
        "        else: \n",
        "            print(trace[j],end=\" \")\n",
        "        j=abs(trace[j])-1\n",
        " \n",
        " \n",
        "init()\n",
        "solve()"
      ],
      "execution_count": null,
      "outputs": []
    }
  ]
}